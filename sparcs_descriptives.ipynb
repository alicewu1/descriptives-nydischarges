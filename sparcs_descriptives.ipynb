{
 "cells": [
  {
   "cell_type": "markdown",
   "metadata": {},
   "source": [
    "Import Libraries"
   ]
  },
  {
   "cell_type": "code",
   "execution_count": 1,
   "metadata": {},
   "outputs": [],
   "source": [
    "from lib2to3.pgen2.pgen import DFAState\n",
    "import math\n",
    "import statistics # for descriptive statistics\n",
    "import numpy as np # for single/multi dimensional arrays\n",
    "from scipy import stats # scientific computing based on numpy\n",
    "import pandas as pd \n",
    "import matplotlib.pyplot # for data visualization\n",
    "from pandas.plotting import scatter_matrix # for plotting data\n",
    "from statsmodels.formula.api import ols \n",
    "import seaborn ## for statistical visualizations"
   ]
  },
  {
   "cell_type": "code",
   "execution_count": 2,
   "metadata": {},
   "outputs": [],
   "source": [
    "sparcs=pd.read_csv('https://health.data.ny.gov/resource/gnzp-ekau.csv')"
   ]
  },
  {
   "cell_type": "code",
   "execution_count": 3,
   "metadata": {},
   "outputs": [
    {
     "data": {
      "text/html": [
       "<div>\n",
       "<style scoped>\n",
       "    .dataframe tbody tr th:only-of-type {\n",
       "        vertical-align: middle;\n",
       "    }\n",
       "\n",
       "    .dataframe tbody tr th {\n",
       "        vertical-align: top;\n",
       "    }\n",
       "\n",
       "    .dataframe thead th {\n",
       "        text-align: right;\n",
       "    }\n",
       "</style>\n",
       "<table border=\"1\" class=\"dataframe\">\n",
       "  <thead>\n",
       "    <tr style=\"text-align: right;\">\n",
       "      <th></th>\n",
       "      <th>health_service_area</th>\n",
       "      <th>hospital_county</th>\n",
       "      <th>operating_certificate_number</th>\n",
       "      <th>facility_id</th>\n",
       "      <th>facility_name</th>\n",
       "      <th>age_group</th>\n",
       "      <th>zip_code_3_digits</th>\n",
       "      <th>gender</th>\n",
       "      <th>race</th>\n",
       "      <th>ethnicity</th>\n",
       "      <th>...</th>\n",
       "      <th>apr_risk_of_mortality</th>\n",
       "      <th>apr_medical_surgical_description</th>\n",
       "      <th>payment_typology_1</th>\n",
       "      <th>payment_typology_2</th>\n",
       "      <th>payment_typology_3</th>\n",
       "      <th>birth_weight</th>\n",
       "      <th>abortion_edit_indicator</th>\n",
       "      <th>emergency_department_indicator</th>\n",
       "      <th>total_charges</th>\n",
       "      <th>total_costs</th>\n",
       "    </tr>\n",
       "  </thead>\n",
       "  <tbody>\n",
       "    <tr>\n",
       "      <th>0</th>\n",
       "      <td>Western NY</td>\n",
       "      <td>Allegany</td>\n",
       "      <td>226700.0</td>\n",
       "      <td>37.0</td>\n",
       "      <td>Cuba Memorial Hospital Inc</td>\n",
       "      <td>70 or Older</td>\n",
       "      <td>147</td>\n",
       "      <td>F</td>\n",
       "      <td>White</td>\n",
       "      <td>Not Span/Hispanic</td>\n",
       "      <td>...</td>\n",
       "      <td>Moderate</td>\n",
       "      <td>Medical</td>\n",
       "      <td>Medicare</td>\n",
       "      <td>Private Health Insurance</td>\n",
       "      <td>NaN</td>\n",
       "      <td>0</td>\n",
       "      <td>N</td>\n",
       "      <td>N</td>\n",
       "      <td>3913.23</td>\n",
       "      <td>3466.83</td>\n",
       "    </tr>\n",
       "    <tr>\n",
       "      <th>1</th>\n",
       "      <td>Western NY</td>\n",
       "      <td>Allegany</td>\n",
       "      <td>226700.0</td>\n",
       "      <td>37.0</td>\n",
       "      <td>Cuba Memorial Hospital Inc</td>\n",
       "      <td>30 to 49</td>\n",
       "      <td>147</td>\n",
       "      <td>M</td>\n",
       "      <td>White</td>\n",
       "      <td>Not Span/Hispanic</td>\n",
       "      <td>...</td>\n",
       "      <td>Minor</td>\n",
       "      <td>Medical</td>\n",
       "      <td>Self-Pay</td>\n",
       "      <td>NaN</td>\n",
       "      <td>NaN</td>\n",
       "      <td>0</td>\n",
       "      <td>N</td>\n",
       "      <td>Y</td>\n",
       "      <td>3597.10</td>\n",
       "      <td>3746.80</td>\n",
       "    </tr>\n",
       "    <tr>\n",
       "      <th>2</th>\n",
       "      <td>Western NY</td>\n",
       "      <td>Allegany</td>\n",
       "      <td>226700.0</td>\n",
       "      <td>37.0</td>\n",
       "      <td>Cuba Memorial Hospital Inc</td>\n",
       "      <td>50 to 69</td>\n",
       "      <td>147</td>\n",
       "      <td>F</td>\n",
       "      <td>White</td>\n",
       "      <td>Not Span/Hispanic</td>\n",
       "      <td>...</td>\n",
       "      <td>Minor</td>\n",
       "      <td>Medical</td>\n",
       "      <td>Medicare</td>\n",
       "      <td>Federal/State/Local/VA</td>\n",
       "      <td>NaN</td>\n",
       "      <td>0</td>\n",
       "      <td>N</td>\n",
       "      <td>Y</td>\n",
       "      <td>9149.22</td>\n",
       "      <td>8322.10</td>\n",
       "    </tr>\n",
       "    <tr>\n",
       "      <th>3</th>\n",
       "      <td>Western NY</td>\n",
       "      <td>Allegany</td>\n",
       "      <td>226700.0</td>\n",
       "      <td>37.0</td>\n",
       "      <td>Cuba Memorial Hospital Inc</td>\n",
       "      <td>70 or Older</td>\n",
       "      <td>147</td>\n",
       "      <td>M</td>\n",
       "      <td>White</td>\n",
       "      <td>Not Span/Hispanic</td>\n",
       "      <td>...</td>\n",
       "      <td>Moderate</td>\n",
       "      <td>Medical</td>\n",
       "      <td>Medicare</td>\n",
       "      <td>Medicaid</td>\n",
       "      <td>NaN</td>\n",
       "      <td>0</td>\n",
       "      <td>N</td>\n",
       "      <td>Y</td>\n",
       "      <td>5880.61</td>\n",
       "      <td>5828.87</td>\n",
       "    </tr>\n",
       "    <tr>\n",
       "      <th>4</th>\n",
       "      <td>Western NY</td>\n",
       "      <td>Allegany</td>\n",
       "      <td>226700.0</td>\n",
       "      <td>37.0</td>\n",
       "      <td>Cuba Memorial Hospital Inc</td>\n",
       "      <td>50 to 69</td>\n",
       "      <td>147</td>\n",
       "      <td>M</td>\n",
       "      <td>White</td>\n",
       "      <td>Not Span/Hispanic</td>\n",
       "      <td>...</td>\n",
       "      <td>Moderate</td>\n",
       "      <td>Medical</td>\n",
       "      <td>Blue Cross/Blue Shield</td>\n",
       "      <td>NaN</td>\n",
       "      <td>NaN</td>\n",
       "      <td>0</td>\n",
       "      <td>N</td>\n",
       "      <td>Y</td>\n",
       "      <td>7019.76</td>\n",
       "      <td>6604.00</td>\n",
       "    </tr>\n",
       "    <tr>\n",
       "      <th>...</th>\n",
       "      <td>...</td>\n",
       "      <td>...</td>\n",
       "      <td>...</td>\n",
       "      <td>...</td>\n",
       "      <td>...</td>\n",
       "      <td>...</td>\n",
       "      <td>...</td>\n",
       "      <td>...</td>\n",
       "      <td>...</td>\n",
       "      <td>...</td>\n",
       "      <td>...</td>\n",
       "      <td>...</td>\n",
       "      <td>...</td>\n",
       "      <td>...</td>\n",
       "      <td>...</td>\n",
       "      <td>...</td>\n",
       "      <td>...</td>\n",
       "      <td>...</td>\n",
       "      <td>...</td>\n",
       "      <td>...</td>\n",
       "      <td>...</td>\n",
       "    </tr>\n",
       "    <tr>\n",
       "      <th>995</th>\n",
       "      <td>Western NY</td>\n",
       "      <td>Allegany</td>\n",
       "      <td>228000.0</td>\n",
       "      <td>39.0</td>\n",
       "      <td>Memorial Hosp of Wm F &amp; Gertrude F Jones A/K/A...</td>\n",
       "      <td>18 to 29</td>\n",
       "      <td>148</td>\n",
       "      <td>F</td>\n",
       "      <td>White</td>\n",
       "      <td>Not Span/Hispanic</td>\n",
       "      <td>...</td>\n",
       "      <td>Minor</td>\n",
       "      <td>Medical</td>\n",
       "      <td>Blue Cross/Blue Shield</td>\n",
       "      <td>Private Health Insurance</td>\n",
       "      <td>Medicaid</td>\n",
       "      <td>0</td>\n",
       "      <td>N</td>\n",
       "      <td>N</td>\n",
       "      <td>9919.75</td>\n",
       "      <td>6485.86</td>\n",
       "    </tr>\n",
       "    <tr>\n",
       "      <th>996</th>\n",
       "      <td>Western NY</td>\n",
       "      <td>Allegany</td>\n",
       "      <td>228000.0</td>\n",
       "      <td>39.0</td>\n",
       "      <td>Memorial Hosp of Wm F &amp; Gertrude F Jones A/K/A...</td>\n",
       "      <td>70 or Older</td>\n",
       "      <td>148</td>\n",
       "      <td>M</td>\n",
       "      <td>White</td>\n",
       "      <td>Not Span/Hispanic</td>\n",
       "      <td>...</td>\n",
       "      <td>Major</td>\n",
       "      <td>Medical</td>\n",
       "      <td>Medicare</td>\n",
       "      <td>Self-Pay</td>\n",
       "      <td>Self-Pay</td>\n",
       "      <td>0</td>\n",
       "      <td>N</td>\n",
       "      <td>Y</td>\n",
       "      <td>21794.75</td>\n",
       "      <td>13726.59</td>\n",
       "    </tr>\n",
       "    <tr>\n",
       "      <th>997</th>\n",
       "      <td>Western NY</td>\n",
       "      <td>Allegany</td>\n",
       "      <td>228000.0</td>\n",
       "      <td>39.0</td>\n",
       "      <td>Memorial Hosp of Wm F &amp; Gertrude F Jones A/K/A...</td>\n",
       "      <td>30 to 49</td>\n",
       "      <td>148</td>\n",
       "      <td>F</td>\n",
       "      <td>White</td>\n",
       "      <td>Not Span/Hispanic</td>\n",
       "      <td>...</td>\n",
       "      <td>Minor</td>\n",
       "      <td>Medical</td>\n",
       "      <td>Blue Cross/Blue Shield</td>\n",
       "      <td>Self-Pay</td>\n",
       "      <td>Self-Pay</td>\n",
       "      <td>0</td>\n",
       "      <td>N</td>\n",
       "      <td>N</td>\n",
       "      <td>7557.50</td>\n",
       "      <td>5175.34</td>\n",
       "    </tr>\n",
       "    <tr>\n",
       "      <th>998</th>\n",
       "      <td>NaN</td>\n",
       "      <td>NaN</td>\n",
       "      <td>NaN</td>\n",
       "      <td>NaN</td>\n",
       "      <td>Redacted for Confidentiality</td>\n",
       "      <td>50 to 69</td>\n",
       "      <td>NaN</td>\n",
       "      <td>M</td>\n",
       "      <td>White</td>\n",
       "      <td>Unknown</td>\n",
       "      <td>...</td>\n",
       "      <td>Minor</td>\n",
       "      <td>Medical</td>\n",
       "      <td>Medicare</td>\n",
       "      <td>Medicaid</td>\n",
       "      <td>Self-Pay</td>\n",
       "      <td>0</td>\n",
       "      <td>N</td>\n",
       "      <td>Y</td>\n",
       "      <td>17047.25</td>\n",
       "      <td>18075.81</td>\n",
       "    </tr>\n",
       "    <tr>\n",
       "      <th>999</th>\n",
       "      <td>Western NY</td>\n",
       "      <td>Allegany</td>\n",
       "      <td>228000.0</td>\n",
       "      <td>39.0</td>\n",
       "      <td>Memorial Hosp of Wm F &amp; Gertrude F Jones A/K/A...</td>\n",
       "      <td>0 to 17</td>\n",
       "      <td>148</td>\n",
       "      <td>F</td>\n",
       "      <td>White</td>\n",
       "      <td>Unknown</td>\n",
       "      <td>...</td>\n",
       "      <td>Minor</td>\n",
       "      <td>Medical</td>\n",
       "      <td>Medicaid</td>\n",
       "      <td>Self-Pay</td>\n",
       "      <td>Self-Pay</td>\n",
       "      <td>3300</td>\n",
       "      <td>N</td>\n",
       "      <td>N</td>\n",
       "      <td>3256.25</td>\n",
       "      <td>1394.61</td>\n",
       "    </tr>\n",
       "  </tbody>\n",
       "</table>\n",
       "<p>1000 rows × 34 columns</p>\n",
       "</div>"
      ],
      "text/plain": [
       "    health_service_area hospital_county  operating_certificate_number  \\\n",
       "0            Western NY        Allegany                      226700.0   \n",
       "1            Western NY        Allegany                      226700.0   \n",
       "2            Western NY        Allegany                      226700.0   \n",
       "3            Western NY        Allegany                      226700.0   \n",
       "4            Western NY        Allegany                      226700.0   \n",
       "..                  ...             ...                           ...   \n",
       "995          Western NY        Allegany                      228000.0   \n",
       "996          Western NY        Allegany                      228000.0   \n",
       "997          Western NY        Allegany                      228000.0   \n",
       "998                 NaN             NaN                           NaN   \n",
       "999          Western NY        Allegany                      228000.0   \n",
       "\n",
       "     facility_id                                      facility_name  \\\n",
       "0           37.0                         Cuba Memorial Hospital Inc   \n",
       "1           37.0                         Cuba Memorial Hospital Inc   \n",
       "2           37.0                         Cuba Memorial Hospital Inc   \n",
       "3           37.0                         Cuba Memorial Hospital Inc   \n",
       "4           37.0                         Cuba Memorial Hospital Inc   \n",
       "..           ...                                                ...   \n",
       "995         39.0  Memorial Hosp of Wm F & Gertrude F Jones A/K/A...   \n",
       "996         39.0  Memorial Hosp of Wm F & Gertrude F Jones A/K/A...   \n",
       "997         39.0  Memorial Hosp of Wm F & Gertrude F Jones A/K/A...   \n",
       "998          NaN                       Redacted for Confidentiality   \n",
       "999         39.0  Memorial Hosp of Wm F & Gertrude F Jones A/K/A...   \n",
       "\n",
       "       age_group zip_code_3_digits gender   race          ethnicity  ...  \\\n",
       "0    70 or Older               147      F  White  Not Span/Hispanic  ...   \n",
       "1       30 to 49               147      M  White  Not Span/Hispanic  ...   \n",
       "2       50 to 69               147      F  White  Not Span/Hispanic  ...   \n",
       "3    70 or Older               147      M  White  Not Span/Hispanic  ...   \n",
       "4       50 to 69               147      M  White  Not Span/Hispanic  ...   \n",
       "..           ...               ...    ...    ...                ...  ...   \n",
       "995     18 to 29               148      F  White  Not Span/Hispanic  ...   \n",
       "996  70 or Older               148      M  White  Not Span/Hispanic  ...   \n",
       "997     30 to 49               148      F  White  Not Span/Hispanic  ...   \n",
       "998     50 to 69               NaN      M  White            Unknown  ...   \n",
       "999      0 to 17               148      F  White            Unknown  ...   \n",
       "\n",
       "     apr_risk_of_mortality apr_medical_surgical_description  \\\n",
       "0                 Moderate                          Medical   \n",
       "1                    Minor                          Medical   \n",
       "2                    Minor                          Medical   \n",
       "3                 Moderate                          Medical   \n",
       "4                 Moderate                          Medical   \n",
       "..                     ...                              ...   \n",
       "995                  Minor                          Medical   \n",
       "996                  Major                          Medical   \n",
       "997                  Minor                          Medical   \n",
       "998                  Minor                          Medical   \n",
       "999                  Minor                          Medical   \n",
       "\n",
       "         payment_typology_1        payment_typology_2  payment_typology_3  \\\n",
       "0                  Medicare  Private Health Insurance                 NaN   \n",
       "1                  Self-Pay                       NaN                 NaN   \n",
       "2                  Medicare    Federal/State/Local/VA                 NaN   \n",
       "3                  Medicare                  Medicaid                 NaN   \n",
       "4    Blue Cross/Blue Shield                       NaN                 NaN   \n",
       "..                      ...                       ...                 ...   \n",
       "995  Blue Cross/Blue Shield  Private Health Insurance            Medicaid   \n",
       "996                Medicare                  Self-Pay            Self-Pay   \n",
       "997  Blue Cross/Blue Shield                  Self-Pay            Self-Pay   \n",
       "998                Medicare                  Medicaid            Self-Pay   \n",
       "999                Medicaid                  Self-Pay            Self-Pay   \n",
       "\n",
       "    birth_weight  abortion_edit_indicator emergency_department_indicator  \\\n",
       "0              0                        N                              N   \n",
       "1              0                        N                              Y   \n",
       "2              0                        N                              Y   \n",
       "3              0                        N                              Y   \n",
       "4              0                        N                              Y   \n",
       "..           ...                      ...                            ...   \n",
       "995            0                        N                              N   \n",
       "996            0                        N                              Y   \n",
       "997            0                        N                              N   \n",
       "998            0                        N                              Y   \n",
       "999         3300                        N                              N   \n",
       "\n",
       "     total_charges total_costs  \n",
       "0          3913.23     3466.83  \n",
       "1          3597.10     3746.80  \n",
       "2          9149.22     8322.10  \n",
       "3          5880.61     5828.87  \n",
       "4          7019.76     6604.00  \n",
       "..             ...         ...  \n",
       "995        9919.75     6485.86  \n",
       "996       21794.75    13726.59  \n",
       "997        7557.50     5175.34  \n",
       "998       17047.25    18075.81  \n",
       "999        3256.25     1394.61  \n",
       "\n",
       "[1000 rows x 34 columns]"
      ]
     },
     "execution_count": 3,
     "metadata": {},
     "output_type": "execute_result"
    }
   ],
   "source": [
    "sparcs"
   ]
  },
  {
   "cell_type": "markdown",
   "metadata": {},
   "source": [
    "### Examining DataFrame"
   ]
  },
  {
   "cell_type": "code",
   "execution_count": 4,
   "metadata": {},
   "outputs": [
    {
     "data": {
      "text/plain": [
       "(1000, 34)"
      ]
     },
     "execution_count": 4,
     "metadata": {},
     "output_type": "execute_result"
    }
   ],
   "source": [
    "\n",
    "sparcs.shape # 1000 rows x 34 columns"
   ]
  },
  {
   "cell_type": "code",
   "execution_count": 5,
   "metadata": {},
   "outputs": [
    {
     "data": {
      "text/plain": [
       "Index(['health_service_area', 'hospital_county',\n",
       "       'operating_certificate_number', 'facility_id', 'facility_name',\n",
       "       'age_group', 'zip_code_3_digits', 'gender', 'race', 'ethnicity',\n",
       "       'length_of_stay', 'type_of_admission', 'patient_disposition',\n",
       "       'discharge_year', 'ccs_diagnosis_code', 'ccs_diagnosis_description',\n",
       "       'ccs_procedure_code', 'ccs_procedure_description', 'apr_drg_code',\n",
       "       'apr_drg_description', 'apr_mdc_code', 'apr_mdc_description',\n",
       "       'apr_severity_of_illness_code', 'apr_severity_of_illness_description',\n",
       "       'apr_risk_of_mortality', 'apr_medical_surgical_description',\n",
       "       'payment_typology_1', 'payment_typology_2', 'payment_typology_3',\n",
       "       'birth_weight', 'abortion_edit_indicator',\n",
       "       'emergency_department_indicator', 'total_charges', 'total_costs'],\n",
       "      dtype='object')"
      ]
     },
     "execution_count": 5,
     "metadata": {},
     "output_type": "execute_result"
    }
   ],
   "source": [
    "sparcs.columns # view column name"
   ]
  },
  {
   "cell_type": "code",
   "execution_count": 6,
   "metadata": {},
   "outputs": [
    {
     "data": {
      "text/plain": [
       "health_service_area                     object\n",
       "hospital_county                         object\n",
       "operating_certificate_number           float64\n",
       "facility_id                            float64\n",
       "facility_name                           object\n",
       "age_group                               object\n",
       "zip_code_3_digits                       object\n",
       "gender                                  object\n",
       "race                                    object\n",
       "ethnicity                               object\n",
       "length_of_stay                           int64\n",
       "type_of_admission                       object\n",
       "patient_disposition                     object\n",
       "discharge_year                           int64\n",
       "ccs_diagnosis_code                       int64\n",
       "ccs_diagnosis_description               object\n",
       "ccs_procedure_code                       int64\n",
       "ccs_procedure_description               object\n",
       "apr_drg_code                             int64\n",
       "apr_drg_description                     object\n",
       "apr_mdc_code                             int64\n",
       "apr_mdc_description                     object\n",
       "apr_severity_of_illness_code             int64\n",
       "apr_severity_of_illness_description     object\n",
       "apr_risk_of_mortality                   object\n",
       "apr_medical_surgical_description        object\n",
       "payment_typology_1                      object\n",
       "payment_typology_2                      object\n",
       "payment_typology_3                      object\n",
       "birth_weight                             int64\n",
       "abortion_edit_indicator                 object\n",
       "emergency_department_indicator          object\n",
       "total_charges                          float64\n",
       "total_costs                            float64\n",
       "dtype: object"
      ]
     },
     "execution_count": 6,
     "metadata": {},
     "output_type": "execute_result"
    }
   ],
   "source": [
    "sparcs.dtypes # view data types "
   ]
  },
  {
   "cell_type": "code",
   "execution_count": 7,
   "metadata": {},
   "outputs": [
    {
     "name": "stdout",
     "output_type": "stream",
     "text": [
      "0      F\n",
      "1      M\n",
      "2      F\n",
      "3      M\n",
      "4      M\n",
      "      ..\n",
      "995    F\n",
      "996    M\n",
      "997    F\n",
      "998    M\n",
      "999    F\n",
      "Name: gender, Length: 1000, dtype: object\n"
     ]
    }
   ],
   "source": [
    "print(sparcs['gender'])"
   ]
  },
  {
   "cell_type": "code",
   "execution_count": 8,
   "metadata": {},
   "outputs": [
    {
     "data": {
      "text/plain": [
       "3.2769726247987117"
      ]
     },
     "execution_count": 8,
     "metadata": {},
     "output_type": "execute_result"
    }
   ],
   "source": [
    "#simple selector: female and avg about of time they stay \n",
    "sparcs[sparcs['gender'] == 'F']['length_of_stay'].mean() "
   ]
  },
  {
   "cell_type": "code",
   "execution_count": 9,
   "metadata": {},
   "outputs": [
    {
     "data": {
      "text/html": [
       "<div>\n",
       "<style scoped>\n",
       "    .dataframe tbody tr th:only-of-type {\n",
       "        vertical-align: middle;\n",
       "    }\n",
       "\n",
       "    .dataframe tbody tr th {\n",
       "        vertical-align: top;\n",
       "    }\n",
       "\n",
       "    .dataframe thead th {\n",
       "        text-align: right;\n",
       "    }\n",
       "</style>\n",
       "<table border=\"1\" class=\"dataframe\">\n",
       "  <thead>\n",
       "    <tr style=\"text-align: right;\">\n",
       "      <th></th>\n",
       "      <th>operating_certificate_number</th>\n",
       "      <th>facility_id</th>\n",
       "      <th>length_of_stay</th>\n",
       "      <th>discharge_year</th>\n",
       "      <th>ccs_diagnosis_code</th>\n",
       "      <th>ccs_procedure_code</th>\n",
       "      <th>apr_drg_code</th>\n",
       "      <th>apr_mdc_code</th>\n",
       "      <th>apr_severity_of_illness_code</th>\n",
       "      <th>birth_weight</th>\n",
       "      <th>total_charges</th>\n",
       "      <th>total_costs</th>\n",
       "    </tr>\n",
       "  </thead>\n",
       "  <tbody>\n",
       "    <tr>\n",
       "      <th>count</th>\n",
       "      <td>992.000000</td>\n",
       "      <td>992.000000</td>\n",
       "      <td>1000.000000</td>\n",
       "      <td>1000.0</td>\n",
       "      <td>1000.000000</td>\n",
       "      <td>1000.000000</td>\n",
       "      <td>1000.000000</td>\n",
       "      <td>1000.000000</td>\n",
       "      <td>1000.000000</td>\n",
       "      <td>1000.000000</td>\n",
       "      <td>1000.000000</td>\n",
       "      <td>1000.000000</td>\n",
       "    </tr>\n",
       "    <tr>\n",
       "      <th>mean</th>\n",
       "      <td>228305.546371</td>\n",
       "      <td>38.987903</td>\n",
       "      <td>3.446000</td>\n",
       "      <td>2016.0</td>\n",
       "      <td>162.346000</td>\n",
       "      <td>83.419000</td>\n",
       "      <td>466.211000</td>\n",
       "      <td>11.490000</td>\n",
       "      <td>1.827000</td>\n",
       "      <td>703.600000</td>\n",
       "      <td>12954.426590</td>\n",
       "      <td>10103.517850</td>\n",
       "    </tr>\n",
       "    <tr>\n",
       "      <th>std</th>\n",
       "      <td>7769.500403</td>\n",
       "      <td>1.266607</td>\n",
       "      <td>2.917121</td>\n",
       "      <td>0.0</td>\n",
       "      <td>95.533056</td>\n",
       "      <td>83.052436</td>\n",
       "      <td>214.849307</td>\n",
       "      <td>5.134224</td>\n",
       "      <td>0.871683</td>\n",
       "      <td>1388.046726</td>\n",
       "      <td>12228.596473</td>\n",
       "      <td>12149.476518</td>\n",
       "    </tr>\n",
       "    <tr>\n",
       "      <th>min</th>\n",
       "      <td>226700.000000</td>\n",
       "      <td>37.000000</td>\n",
       "      <td>1.000000</td>\n",
       "      <td>2016.0</td>\n",
       "      <td>2.000000</td>\n",
       "      <td>0.000000</td>\n",
       "      <td>43.000000</td>\n",
       "      <td>1.000000</td>\n",
       "      <td>1.000000</td>\n",
       "      <td>0.000000</td>\n",
       "      <td>1527.250000</td>\n",
       "      <td>660.030000</td>\n",
       "    </tr>\n",
       "    <tr>\n",
       "      <th>25%</th>\n",
       "      <td>228000.000000</td>\n",
       "      <td>39.000000</td>\n",
       "      <td>2.000000</td>\n",
       "      <td>2016.0</td>\n",
       "      <td>122.000000</td>\n",
       "      <td>0.000000</td>\n",
       "      <td>248.500000</td>\n",
       "      <td>6.000000</td>\n",
       "      <td>1.000000</td>\n",
       "      <td>0.000000</td>\n",
       "      <td>5419.187500</td>\n",
       "      <td>2996.962500</td>\n",
       "    </tr>\n",
       "    <tr>\n",
       "      <th>50%</th>\n",
       "      <td>228000.000000</td>\n",
       "      <td>39.000000</td>\n",
       "      <td>3.000000</td>\n",
       "      <td>2016.0</td>\n",
       "      <td>187.000000</td>\n",
       "      <td>92.000000</td>\n",
       "      <td>540.000000</td>\n",
       "      <td>14.000000</td>\n",
       "      <td>2.000000</td>\n",
       "      <td>0.000000</td>\n",
       "      <td>9829.625000</td>\n",
       "      <td>6134.855000</td>\n",
       "    </tr>\n",
       "    <tr>\n",
       "      <th>75%</th>\n",
       "      <td>228000.000000</td>\n",
       "      <td>39.000000</td>\n",
       "      <td>4.000000</td>\n",
       "      <td>2016.0</td>\n",
       "      <td>218.000000</td>\n",
       "      <td>137.000000</td>\n",
       "      <td>640.000000</td>\n",
       "      <td>15.000000</td>\n",
       "      <td>2.000000</td>\n",
       "      <td>0.000000</td>\n",
       "      <td>15681.875000</td>\n",
       "      <td>12881.465000</td>\n",
       "    </tr>\n",
       "    <tr>\n",
       "      <th>max</th>\n",
       "      <td>401001.000000</td>\n",
       "      <td>66.000000</td>\n",
       "      <td>27.000000</td>\n",
       "      <td>2016.0</td>\n",
       "      <td>662.000000</td>\n",
       "      <td>231.000000</td>\n",
       "      <td>951.000000</td>\n",
       "      <td>23.000000</td>\n",
       "      <td>4.000000</td>\n",
       "      <td>4900.000000</td>\n",
       "      <td>121678.110000</td>\n",
       "      <td>109008.010000</td>\n",
       "    </tr>\n",
       "  </tbody>\n",
       "</table>\n",
       "</div>"
      ],
      "text/plain": [
       "       operating_certificate_number  facility_id  length_of_stay  \\\n",
       "count                    992.000000   992.000000     1000.000000   \n",
       "mean                  228305.546371    38.987903        3.446000   \n",
       "std                     7769.500403     1.266607        2.917121   \n",
       "min                   226700.000000    37.000000        1.000000   \n",
       "25%                   228000.000000    39.000000        2.000000   \n",
       "50%                   228000.000000    39.000000        3.000000   \n",
       "75%                   228000.000000    39.000000        4.000000   \n",
       "max                   401001.000000    66.000000       27.000000   \n",
       "\n",
       "       discharge_year  ccs_diagnosis_code  ccs_procedure_code  apr_drg_code  \\\n",
       "count          1000.0         1000.000000         1000.000000   1000.000000   \n",
       "mean           2016.0          162.346000           83.419000    466.211000   \n",
       "std               0.0           95.533056           83.052436    214.849307   \n",
       "min            2016.0            2.000000            0.000000     43.000000   \n",
       "25%            2016.0          122.000000            0.000000    248.500000   \n",
       "50%            2016.0          187.000000           92.000000    540.000000   \n",
       "75%            2016.0          218.000000          137.000000    640.000000   \n",
       "max            2016.0          662.000000          231.000000    951.000000   \n",
       "\n",
       "       apr_mdc_code  apr_severity_of_illness_code  birth_weight  \\\n",
       "count   1000.000000                   1000.000000   1000.000000   \n",
       "mean      11.490000                      1.827000    703.600000   \n",
       "std        5.134224                      0.871683   1388.046726   \n",
       "min        1.000000                      1.000000      0.000000   \n",
       "25%        6.000000                      1.000000      0.000000   \n",
       "50%       14.000000                      2.000000      0.000000   \n",
       "75%       15.000000                      2.000000      0.000000   \n",
       "max       23.000000                      4.000000   4900.000000   \n",
       "\n",
       "       total_charges    total_costs  \n",
       "count    1000.000000    1000.000000  \n",
       "mean    12954.426590   10103.517850  \n",
       "std     12228.596473   12149.476518  \n",
       "min      1527.250000     660.030000  \n",
       "25%      5419.187500    2996.962500  \n",
       "50%      9829.625000    6134.855000  \n",
       "75%     15681.875000   12881.465000  \n",
       "max    121678.110000  109008.010000  "
      ]
     },
     "execution_count": 9,
     "metadata": {},
     "output_type": "execute_result"
    }
   ],
   "source": [
    "sparcs.describe() # quick view a large dataframe"
   ]
  },
  {
   "cell_type": "code",
   "execution_count": 12,
   "metadata": {},
   "outputs": [],
   "source": [
    "#splitting dataframe on values of categorical variables \n",
    "groupby_gender = sparcs.groupby('gender')"
   ]
  },
  {
   "cell_type": "code",
   "execution_count": 13,
   "metadata": {},
   "outputs": [
    {
     "name": "stdout",
     "output_type": "stream",
     "text": [
      "('F', 3.2769726247987117)\n",
      "('M', 3.7229551451187337)\n"
     ]
    }
   ],
   "source": [
    "for gender, value in groupby_gender['length_of_stay']: print((gender, value.mean()))"
   ]
  },
  {
   "cell_type": "code",
   "execution_count": 15,
   "metadata": {},
   "outputs": [
    {
     "data": {
      "text/html": [
       "<div>\n",
       "<style scoped>\n",
       "    .dataframe tbody tr th:only-of-type {\n",
       "        vertical-align: middle;\n",
       "    }\n",
       "\n",
       "    .dataframe tbody tr th {\n",
       "        vertical-align: top;\n",
       "    }\n",
       "\n",
       "    .dataframe thead th {\n",
       "        text-align: right;\n",
       "    }\n",
       "</style>\n",
       "<table border=\"1\" class=\"dataframe\">\n",
       "  <thead>\n",
       "    <tr style=\"text-align: right;\">\n",
       "      <th></th>\n",
       "      <th>health_service_area</th>\n",
       "      <th>hospital_county</th>\n",
       "      <th>operating_certificate_number</th>\n",
       "      <th>facility_id</th>\n",
       "      <th>facility_name</th>\n",
       "      <th>age_group</th>\n",
       "      <th>zip_code_3_digits</th>\n",
       "      <th>race</th>\n",
       "      <th>ethnicity</th>\n",
       "      <th>length_of_stay</th>\n",
       "      <th>...</th>\n",
       "      <th>apr_risk_of_mortality</th>\n",
       "      <th>apr_medical_surgical_description</th>\n",
       "      <th>payment_typology_1</th>\n",
       "      <th>payment_typology_2</th>\n",
       "      <th>payment_typology_3</th>\n",
       "      <th>birth_weight</th>\n",
       "      <th>abortion_edit_indicator</th>\n",
       "      <th>emergency_department_indicator</th>\n",
       "      <th>total_charges</th>\n",
       "      <th>total_costs</th>\n",
       "    </tr>\n",
       "    <tr>\n",
       "      <th>gender</th>\n",
       "      <th></th>\n",
       "      <th></th>\n",
       "      <th></th>\n",
       "      <th></th>\n",
       "      <th></th>\n",
       "      <th></th>\n",
       "      <th></th>\n",
       "      <th></th>\n",
       "      <th></th>\n",
       "      <th></th>\n",
       "      <th></th>\n",
       "      <th></th>\n",
       "      <th></th>\n",
       "      <th></th>\n",
       "      <th></th>\n",
       "      <th></th>\n",
       "      <th></th>\n",
       "      <th></th>\n",
       "      <th></th>\n",
       "      <th></th>\n",
       "      <th></th>\n",
       "    </tr>\n",
       "  </thead>\n",
       "  <tbody>\n",
       "    <tr>\n",
       "      <th>F</th>\n",
       "      <td>618</td>\n",
       "      <td>618</td>\n",
       "      <td>618</td>\n",
       "      <td>618</td>\n",
       "      <td>621</td>\n",
       "      <td>621</td>\n",
       "      <td>610</td>\n",
       "      <td>621</td>\n",
       "      <td>621</td>\n",
       "      <td>621</td>\n",
       "      <td>...</td>\n",
       "      <td>621</td>\n",
       "      <td>621</td>\n",
       "      <td>621</td>\n",
       "      <td>613</td>\n",
       "      <td>604</td>\n",
       "      <td>621</td>\n",
       "      <td>621</td>\n",
       "      <td>621</td>\n",
       "      <td>621</td>\n",
       "      <td>621</td>\n",
       "    </tr>\n",
       "    <tr>\n",
       "      <th>M</th>\n",
       "      <td>374</td>\n",
       "      <td>374</td>\n",
       "      <td>374</td>\n",
       "      <td>374</td>\n",
       "      <td>379</td>\n",
       "      <td>379</td>\n",
       "      <td>368</td>\n",
       "      <td>379</td>\n",
       "      <td>379</td>\n",
       "      <td>379</td>\n",
       "      <td>...</td>\n",
       "      <td>379</td>\n",
       "      <td>379</td>\n",
       "      <td>379</td>\n",
       "      <td>364</td>\n",
       "      <td>361</td>\n",
       "      <td>379</td>\n",
       "      <td>379</td>\n",
       "      <td>379</td>\n",
       "      <td>379</td>\n",
       "      <td>379</td>\n",
       "    </tr>\n",
       "  </tbody>\n",
       "</table>\n",
       "<p>2 rows × 33 columns</p>\n",
       "</div>"
      ],
      "text/plain": [
       "        health_service_area  hospital_county  operating_certificate_number  \\\n",
       "gender                                                                       \n",
       "F                       618              618                           618   \n",
       "M                       374              374                           374   \n",
       "\n",
       "        facility_id  facility_name  age_group  zip_code_3_digits  race  \\\n",
       "gender                                                                   \n",
       "F               618            621        621                610   621   \n",
       "M               374            379        379                368   379   \n",
       "\n",
       "        ethnicity  length_of_stay  ...  apr_risk_of_mortality  \\\n",
       "gender                             ...                          \n",
       "F             621             621  ...                    621   \n",
       "M             379             379  ...                    379   \n",
       "\n",
       "        apr_medical_surgical_description  payment_typology_1  \\\n",
       "gender                                                         \n",
       "F                                    621                 621   \n",
       "M                                    379                 379   \n",
       "\n",
       "        payment_typology_2  payment_typology_3  birth_weight  \\\n",
       "gender                                                         \n",
       "F                      613                 604           621   \n",
       "M                      364                 361           379   \n",
       "\n",
       "        abortion_edit_indicator  emergency_department_indicator  \\\n",
       "gender                                                            \n",
       "F                           621                             621   \n",
       "M                           379                             379   \n",
       "\n",
       "        total_charges  total_costs  \n",
       "gender                              \n",
       "F                 621          621  \n",
       "M                 379          379  \n",
       "\n",
       "[2 rows x 33 columns]"
      ]
     },
     "execution_count": 15,
     "metadata": {},
     "output_type": "execute_result"
    }
   ],
   "source": [
    "# How many males/females were included in this study?\n",
    "groupby_gender.count()"
   ]
  },
  {
   "cell_type": "markdown",
   "metadata": {},
   "source": [
    "### Frequencies"
   ]
  },
  {
   "cell_type": "code",
   "execution_count": 35,
   "metadata": {},
   "outputs": [
    {
     "data": {
      "text/plain": [
       "array(['70 or Older', '30 to 49', '50 to 69', '18 to 29', '0 to 17'],\n",
       "      dtype=object)"
      ]
     },
     "execution_count": 35,
     "metadata": {},
     "output_type": "execute_result"
    }
   ],
   "source": [
    "sparcs.age_group.unique() # use .unique() to return the sample space leemnts of a column"
   ]
  },
  {
   "cell_type": "code",
   "execution_count": 36,
   "metadata": {},
   "outputs": [
    {
     "data": {
      "text/plain": [
       "70 or Older    282\n",
       "0 to 17        223\n",
       "50 to 69       208\n",
       "18 to 29       169\n",
       "30 to 49       118\n",
       "Name: age_group, dtype: int64"
      ]
     },
     "execution_count": 36,
     "metadata": {},
     "output_type": "execute_result"
    }
   ],
   "source": [
    "sparcs.age_group.value_counts() # counting the number of times the unique values appear"
   ]
  },
  {
   "cell_type": "code",
   "execution_count": 40,
   "metadata": {},
   "outputs": [
    {
     "data": {
      "text/plain": [
       "70 or Older    0.282\n",
       "0 to 17        0.223\n",
       "50 to 69       0.208\n",
       "18 to 29       0.169\n",
       "30 to 49       0.118\n",
       "Name: age_group, dtype: float64"
      ]
     },
     "execution_count": 40,
     "metadata": {},
     "output_type": "execute_result"
    }
   ],
   "source": [
    "sparcs.age_group.value_counts(normalize=True) #expressing the relative frequency"
   ]
  },
  {
   "cell_type": "code",
   "execution_count": 41,
   "metadata": {},
   "outputs": [
    {
     "data": {
      "text/plain": [
       "70 or Older    28.2\n",
       "0 to 17        22.3\n",
       "50 to 69       20.8\n",
       "18 to 29       16.9\n",
       "30 to 49       11.8\n",
       "Name: age_group, dtype: float64"
      ]
     },
     "execution_count": 41,
     "metadata": {},
     "output_type": "execute_result"
    }
   ],
   "source": [
    "sparcs.age_group.value_counts(normalize=True) * 100 # expressing the relative frequency as a percentage "
   ]
  },
  {
   "cell_type": "markdown",
   "metadata": {},
   "source": [
    "### Grouped Frequencies"
   ]
  },
  {
   "cell_type": "code",
   "execution_count": 42,
   "metadata": {},
   "outputs": [
    {
     "data": {
      "text/html": [
       "<div>\n",
       "<style scoped>\n",
       "    .dataframe tbody tr th:only-of-type {\n",
       "        vertical-align: middle;\n",
       "    }\n",
       "\n",
       "    .dataframe tbody tr th {\n",
       "        vertical-align: top;\n",
       "    }\n",
       "\n",
       "    .dataframe thead th {\n",
       "        text-align: right;\n",
       "    }\n",
       "</style>\n",
       "<table border=\"1\" class=\"dataframe\">\n",
       "  <thead>\n",
       "    <tr style=\"text-align: right;\">\n",
       "      <th>age_group</th>\n",
       "      <th>0 to 17</th>\n",
       "      <th>18 to 29</th>\n",
       "      <th>30 to 49</th>\n",
       "      <th>50 to 69</th>\n",
       "      <th>70 or Older</th>\n",
       "    </tr>\n",
       "    <tr>\n",
       "      <th>emergency_department_indicator</th>\n",
       "      <th></th>\n",
       "      <th></th>\n",
       "      <th></th>\n",
       "      <th></th>\n",
       "      <th></th>\n",
       "    </tr>\n",
       "  </thead>\n",
       "  <tbody>\n",
       "    <tr>\n",
       "      <th>N</th>\n",
       "      <td>212</td>\n",
       "      <td>145</td>\n",
       "      <td>84</td>\n",
       "      <td>44</td>\n",
       "      <td>42</td>\n",
       "    </tr>\n",
       "    <tr>\n",
       "      <th>Y</th>\n",
       "      <td>11</td>\n",
       "      <td>24</td>\n",
       "      <td>34</td>\n",
       "      <td>164</td>\n",
       "      <td>240</td>\n",
       "    </tr>\n",
       "  </tbody>\n",
       "</table>\n",
       "</div>"
      ],
      "text/plain": [
       "age_group                       0 to 17  18 to 29  30 to 49  50 to 69  \\\n",
       "emergency_department_indicator                                          \n",
       "N                                   212       145        84        44   \n",
       "Y                                    11        24        34       164   \n",
       "\n",
       "age_group                       70 or Older  \n",
       "emergency_department_indicator               \n",
       "N                                        42  \n",
       "Y                                       240  "
      ]
     },
     "execution_count": 42,
     "metadata": {},
     "output_type": "execute_result"
    }
   ],
   "source": [
    "pd.crosstab(sparcs.emergency_department_indicator, sparcs.age_group)"
   ]
  },
  {
   "cell_type": "code",
   "execution_count": 29,
   "metadata": {},
   "outputs": [
    {
     "data": {
      "text/plain": [
       "array([[<AxesSubplot:xlabel='length_of_stay', ylabel='length_of_stay'>,\n",
       "        <AxesSubplot:xlabel='birth_weight', ylabel='length_of_stay'>,\n",
       "        <AxesSubplot:xlabel='total_charges', ylabel='length_of_stay'>,\n",
       "        <AxesSubplot:xlabel='total_costs', ylabel='length_of_stay'>],\n",
       "       [<AxesSubplot:xlabel='length_of_stay', ylabel='birth_weight'>,\n",
       "        <AxesSubplot:xlabel='birth_weight', ylabel='birth_weight'>,\n",
       "        <AxesSubplot:xlabel='total_charges', ylabel='birth_weight'>,\n",
       "        <AxesSubplot:xlabel='total_costs', ylabel='birth_weight'>],\n",
       "       [<AxesSubplot:xlabel='length_of_stay', ylabel='total_charges'>,\n",
       "        <AxesSubplot:xlabel='birth_weight', ylabel='total_charges'>,\n",
       "        <AxesSubplot:xlabel='total_charges', ylabel='total_charges'>,\n",
       "        <AxesSubplot:xlabel='total_costs', ylabel='total_charges'>],\n",
       "       [<AxesSubplot:xlabel='length_of_stay', ylabel='total_costs'>,\n",
       "        <AxesSubplot:xlabel='birth_weight', ylabel='total_costs'>,\n",
       "        <AxesSubplot:xlabel='total_charges', ylabel='total_costs'>,\n",
       "        <AxesSubplot:xlabel='total_costs', ylabel='total_costs'>]],\n",
       "      dtype=object)"
      ]
     },
     "execution_count": 29,
     "metadata": {},
     "output_type": "execute_result"
    },
    {
     "data": {
      "image/png": "[encoded data removed]",
      "text/plain": [
       "<Figure size 720x720 with 16 Axes>"
      ]
     },
     "metadata": {
      "needs_background": "light"
     },
     "output_type": "display_data"
    }
   ],
   "source": [
    "# Plotting Data\n",
    "scatter_matrix(sparcs[['length_of_stay', 'birth_weight', 'total_charges', 'total_costs']], c=(sparcs['gender'] == 'F'), figsize=(10,10), alpha=1, marker='o', cmap='winter')\n",
    "#alpha = # for transparency\n",
    "#figsize = (20,20) for wxh size\n",
    "#cmap = color map\n",
    "#marker = 'shape' ('o', 'x')"
   ]
  },
  {
   "cell_type": "markdown",
   "metadata": {},
   "source": [
    "### Hypothesis Testing: comparing 2 groups"
   ]
  },
  {
   "cell_type": "code",
   "execution_count": 48,
   "metadata": {},
   "outputs": [
    {
     "data": {
      "text/plain": [
       "Ttest_1sampResult(statistic=16.029565287165426, pvalue=1.2352039218252227e-51)"
      ]
     },
     "execution_count": 48,
     "metadata": {},
     "output_type": "execute_result"
    }
   ],
   "source": [
    "# Compare difference between birth weight in males and females \n",
    "# tests if population of mean of data is likely to be equal to a given value \n",
    "stats.ttest_1samp(sparcs['birth_weight'], 0)"
   ]
  },
  {
   "cell_type": "code",
   "execution_count": 49,
   "metadata": {},
   "outputs": [],
   "source": [
    "male_bw = sparcs[sparcs['gender'] == 'M']['birth_weight']"
   ]
  },
  {
   "cell_type": "code",
   "execution_count": 50,
   "metadata": {},
   "outputs": [],
   "source": [
    "female_bw = sparcs[sparcs['gender'] == 'F']['birth_weight']"
   ]
  },
  {
   "cell_type": "code",
   "execution_count": 51,
   "metadata": {},
   "outputs": [
    {
     "data": {
      "text/plain": [
       "Ttest_indResult(statistic=5.730804104532916, pvalue=1.3230646988456851e-08)"
      ]
     },
     "execution_count": 51,
     "metadata": {},
     "output_type": "execute_result"
    }
   ],
   "source": [
    "stats.ttest_ind(male_bw, female_bw)"
   ]
  },
  {
   "cell_type": "code",
   "execution_count": 53,
   "metadata": {},
   "outputs": [],
   "source": [
    "#Testing the difference between total_costs in males and females using non parametric statistics\n",
    "female_total_costs = sparcs[sparcs['gender'] == 'F']['total_costs']"
   ]
  },
  {
   "cell_type": "code",
   "execution_count": 55,
   "metadata": {},
   "outputs": [],
   "source": [
    "male_total_costs = sparcs[sparcs['gender'] == 'M']['total_costs']"
   ]
  },
  {
   "cell_type": "code",
   "execution_count": 56,
   "metadata": {},
   "outputs": [
    {
     "data": {
      "text/plain": [
       "MannwhitneyuResult(statistic=116925.5, pvalue=0.43248295025479616)"
      ]
     },
     "execution_count": 56,
     "metadata": {},
     "output_type": "execute_result"
    }
   ],
   "source": [
    "stats.mannwhitneyu(female_total_costs, male_total_costs)"
   ]
  },
  {
   "cell_type": "code",
   "execution_count": null,
   "metadata": {},
   "outputs": [],
   "source": []
  }
 ],
 "metadata": {
  "kernelspec": {
   "display_name": "Python 3.8.5 ('base')",
   "language": "python",
   "name": "python3"
  },
  "language_info": {
   "codemirror_mode": {
    "name": "ipython",
    "version": 3
   },
   "file_extension": ".py",
   "mimetype": "text/x-python",
   "name": "python",
   "nbconvert_exporter": "python",
   "pygments_lexer": "ipython3",
   "version": "3.8.5"
  },
  "orig_nbformat": 4,
  "vscode": {
   "interpreter": {
    "hash": "57ce36cfcf249843349f3236835148d06497510cfc71a5adee1576d1704ee7ca"
   }
  }
 },
 "nbformat": 4,
 "nbformat_minor": 2
}
